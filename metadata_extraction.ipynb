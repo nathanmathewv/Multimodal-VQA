{
 "cells": [
  {
   "cell_type": "code",
   "execution_count": 1,
   "id": "5025e0c5",
   "metadata": {},
   "outputs": [],
   "source": [
    "import os\n",
    "import json\n",
    "\n",
    "# def read_json_file(file_path):\n",
    "folder_path = r\"Dataset/metadata\"\n",
    "data = []\n",
    "\n",
    "for filename in os.listdir(folder_path):\n",
    "    if filename.endswith(\".json\"):\n",
    "        file_path = os.path.join(folder_path, filename)\n",
    "        with open(file_path, \"r\", encoding=\"utf-8\") as f:\n",
    "            content = f.read()\n",
    "        decoder = json.JSONDecoder()\n",
    "        idx = 0\n",
    "        while idx < len(content):\n",
    "            try:\n",
    "                obj, new_idx = decoder.raw_decode(content, idx)\n",
    "                data.append(obj)\n",
    "                idx = new_idx\n",
    "            except json.JSONDecodeError:\n",
    "                break  # stop when no further valid JSON is found\n",
    "            while idx < len(content) and content[idx].isspace():\n",
    "                idx += 1\n",
    "\n",
    "output_file = r\"Dataset/metadata/merged_listings.json\"\n",
    "with open(output_file, \"a\", encoding=\"utf-8\") as out:\n",
    "    json.dump(data, out, indent=4)\n",
    "\n"
   ]
  },
  {
   "cell_type": "code",
   "execution_count": 2,
   "id": "dfb1c224",
   "metadata": {},
   "outputs": [
    {
     "name": "stdout",
     "output_type": "stream",
     "text": [
      "129238\n"
     ]
    }
   ],
   "source": [
    "with open(r\"Dataset/metadata/merged_listings.json\", \"r\", encoding=\"utf-8\") as f:\n",
    "    listings_dict = json.load(f)\n",
    "\n",
    "print(len(listings_dict))"
   ]
  },
  {
   "cell_type": "code",
   "execution_count": null,
   "id": "fe1a4214",
   "metadata": {},
   "outputs": [],
   "source": []
  },
  {
   "cell_type": "code",
   "execution_count": null,
   "id": "399f8d4e",
   "metadata": {},
   "outputs": [],
   "source": []
  }
 ],
 "metadata": {
  "kernelspec": {
   "display_name": "env",
   "language": "python",
   "name": "python3"
  },
  "language_info": {
   "codemirror_mode": {
    "name": "ipython",
    "version": 3
   },
   "file_extension": ".py",
   "mimetype": "text/x-python",
   "name": "python",
   "nbconvert_exporter": "python",
   "pygments_lexer": "ipython3",
   "version": "3.13.2"
  }
 },
 "nbformat": 4,
 "nbformat_minor": 5
}
