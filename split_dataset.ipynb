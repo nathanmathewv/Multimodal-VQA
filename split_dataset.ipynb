{
 "cells": [
  {
   "cell_type": "code",
   "execution_count": 7,
   "id": "e4463133",
   "metadata": {},
   "outputs": [],
   "source": [
    "# import train test split\n",
    "import pandas as pd\n",
    "import ast"
   ]
  },
  {
   "cell_type": "code",
   "execution_count": 36,
   "id": "436cd5a8",
   "metadata": {},
   "outputs": [],
   "source": [
    "full_df = pd.read_csv('Dataset/merged_image_data_vqa.csv')"
   ]
  },
  {
   "cell_type": "code",
   "execution_count": 37,
   "id": "6cefc302",
   "metadata": {},
   "outputs": [
    {
     "data": {
      "text/html": [
       "<div>\n",
       "<style scoped>\n",
       "    .dataframe tbody tr th:only-of-type {\n",
       "        vertical-align: middle;\n",
       "    }\n",
       "\n",
       "    .dataframe tbody tr th {\n",
       "        vertical-align: top;\n",
       "    }\n",
       "\n",
       "    .dataframe thead th {\n",
       "        text-align: right;\n",
       "    }\n",
       "</style>\n",
       "<table border=\"1\" class=\"dataframe\">\n",
       "  <thead>\n",
       "    <tr style=\"text-align: right;\">\n",
       "      <th></th>\n",
       "      <th>image_id</th>\n",
       "      <th>image_path</th>\n",
       "      <th>listing</th>\n",
       "      <th>vqa_response</th>\n",
       "    </tr>\n",
       "  </thead>\n",
       "  <tbody>\n",
       "    <tr>\n",
       "      <th>0</th>\n",
       "      <td>81iZlv3bjpL</td>\n",
       "      <td>Dataset/final_dataset/8ccb5859.jpg</td>\n",
       "      <td>{\"brand\": [{\"language_tag\": \"nl_NL\", \"value\": ...</td>\n",
       "      <td>[[\"What is the main color of the shoe?\", \"Brow...</td>\n",
       "    </tr>\n",
       "    <tr>\n",
       "      <th>1</th>\n",
       "      <td>619y9YG9cnL</td>\n",
       "      <td>Dataset/final_dataset/9f76d27b.jpg</td>\n",
       "      <td>{\"item_dimensions\": {\"height\": {\"normalized_va...</td>\n",
       "      <td>[[\"What color are the drawer slides?\", \"White\"...</td>\n",
       "    </tr>\n",
       "    <tr>\n",
       "      <th>2</th>\n",
       "      <td>81NP7qh2L6L</td>\n",
       "      <td>Dataset/final_dataset/665cc994.jpg</td>\n",
       "      <td>{\"item_dimensions\": {\"height\": {\"normalized_va...</td>\n",
       "      <td>[[\"What color is the filament?\", \"Yellow\"], [\"...</td>\n",
       "    </tr>\n",
       "    <tr>\n",
       "      <th>3</th>\n",
       "      <td>61Rp4qOih9L</td>\n",
       "      <td>Dataset/final_dataset/b4f9d0cc.jpg</td>\n",
       "      <td>{\"brand\": [{\"language_tag\": \"en_GB\", \"value\": ...</td>\n",
       "      <td>[[\"What is the primary color of the fabric?\", ...</td>\n",
       "    </tr>\n",
       "    <tr>\n",
       "      <th>4</th>\n",
       "      <td>714CmIfKIYL</td>\n",
       "      <td>Dataset/final_dataset/2b1c2516.jpg</td>\n",
       "      <td>{\"brand\": [{\"language_tag\": \"en_AU\", \"value\": ...</td>\n",
       "      <td>[[\"What color is the shoe?\", \"Beige\"], [\"What ...</td>\n",
       "    </tr>\n",
       "  </tbody>\n",
       "</table>\n",
       "</div>"
      ],
      "text/plain": [
       "      image_id                          image_path  \\\n",
       "0  81iZlv3bjpL  Dataset/final_dataset/8ccb5859.jpg   \n",
       "1  619y9YG9cnL  Dataset/final_dataset/9f76d27b.jpg   \n",
       "2  81NP7qh2L6L  Dataset/final_dataset/665cc994.jpg   \n",
       "3  61Rp4qOih9L  Dataset/final_dataset/b4f9d0cc.jpg   \n",
       "4  714CmIfKIYL  Dataset/final_dataset/2b1c2516.jpg   \n",
       "\n",
       "                                             listing  \\\n",
       "0  {\"brand\": [{\"language_tag\": \"nl_NL\", \"value\": ...   \n",
       "1  {\"item_dimensions\": {\"height\": {\"normalized_va...   \n",
       "2  {\"item_dimensions\": {\"height\": {\"normalized_va...   \n",
       "3  {\"brand\": [{\"language_tag\": \"en_GB\", \"value\": ...   \n",
       "4  {\"brand\": [{\"language_tag\": \"en_AU\", \"value\": ...   \n",
       "\n",
       "                                        vqa_response  \n",
       "0  [[\"What is the main color of the shoe?\", \"Brow...  \n",
       "1  [[\"What color are the drawer slides?\", \"White\"...  \n",
       "2  [[\"What color is the filament?\", \"Yellow\"], [\"...  \n",
       "3  [[\"What is the primary color of the fabric?\", ...  \n",
       "4  [[\"What color is the shoe?\", \"Beige\"], [\"What ...  "
      ]
     },
     "execution_count": 37,
     "metadata": {},
     "output_type": "execute_result"
    }
   ],
   "source": [
    "full_df.head()"
   ]
  },
  {
   "cell_type": "code",
   "execution_count": 38,
   "id": "c13c69ff",
   "metadata": {},
   "outputs": [
    {
     "data": {
      "text/plain": [
       "'[[\"What is the main color of the shoe?\", \"Brown\"], [\"What is the pattern on the shoe?\", \"Snakeskin\"], [\"Does the shoe have a tassel?\", \"Yes\"]]'"
      ]
     },
     "execution_count": 38,
     "metadata": {},
     "output_type": "execute_result"
    }
   ],
   "source": [
    "full_df.at[0, 'vqa_response']"
   ]
  },
  {
   "cell_type": "code",
   "execution_count": 40,
   "id": "db3358d3",
   "metadata": {},
   "outputs": [
    {
     "name": "stdout",
     "output_type": "stream",
     "text": [
      "9458\n"
     ]
    }
   ],
   "source": [
    "c = 0\n",
    "for index, row in full_df.iterrows():\n",
    "\n",
    "    vqa = row['vqa_response']\n",
    "    if isinstance(vqa, str):\n",
    "        try:\n",
    "            vqa = ast.literal_eval(vqa)\n",
    "        except Exception:\n",
    "            vqa = []\n",
    "\n",
    "    for q in vqa:\n",
    "        if len(q) > 1 and q[1] in ['yes', 'no', 'Yes', 'No']:\n",
    "            c += 1\n",
    "print(c)"
   ]
  },
  {
   "cell_type": "code",
   "execution_count": 41,
   "id": "0e770517",
   "metadata": {},
   "outputs": [
    {
     "name": "stdout",
     "output_type": "stream",
     "text": [
      "Number of questions: 58124\n"
     ]
    }
   ],
   "source": [
    "num_questions = full_df['vqa_response'].apply(lambda x: len(ast.literal_eval(x)) if isinstance(x, str) else 0)\n",
    "print(f\"Number of questions: {num_questions.sum()}\")"
   ]
  },
  {
   "cell_type": "code",
   "execution_count": 44,
   "id": "8c7cc99f",
   "metadata": {},
   "outputs": [],
   "source": [
    "for index, row in full_df.iterrows():\n",
    "\n",
    "    vqa = row['vqa_response']\n",
    "    if isinstance(vqa, str):\n",
    "        try:\n",
    "            vqa = ast.literal_eval(vqa)\n",
    "        except Exception:\n",
    "            vqa = []\n",
    "\n",
    "    full_df.at[index, 'vqa_response'] = [q for q in vqa if len(q) > 1 and q[1] not in ['yes', 'no', 'Yes', 'No']]"
   ]
  },
  {
   "cell_type": "code",
   "execution_count": 45,
   "id": "a97c8f8b",
   "metadata": {},
   "outputs": [
    {
     "data": {
      "text/html": [
       "<div>\n",
       "<style scoped>\n",
       "    .dataframe tbody tr th:only-of-type {\n",
       "        vertical-align: middle;\n",
       "    }\n",
       "\n",
       "    .dataframe tbody tr th {\n",
       "        vertical-align: top;\n",
       "    }\n",
       "\n",
       "    .dataframe thead th {\n",
       "        text-align: right;\n",
       "    }\n",
       "</style>\n",
       "<table border=\"1\" class=\"dataframe\">\n",
       "  <thead>\n",
       "    <tr style=\"text-align: right;\">\n",
       "      <th></th>\n",
       "      <th>image_id</th>\n",
       "      <th>image_path</th>\n",
       "      <th>listing</th>\n",
       "      <th>vqa_response</th>\n",
       "    </tr>\n",
       "  </thead>\n",
       "  <tbody>\n",
       "    <tr>\n",
       "      <th>0</th>\n",
       "      <td>81iZlv3bjpL</td>\n",
       "      <td>Dataset/final_dataset/8ccb5859.jpg</td>\n",
       "      <td>{\"brand\": [{\"language_tag\": \"nl_NL\", \"value\": ...</td>\n",
       "      <td>[[What is the main color of the shoe?, Brown],...</td>\n",
       "    </tr>\n",
       "    <tr>\n",
       "      <th>1</th>\n",
       "      <td>619y9YG9cnL</td>\n",
       "      <td>Dataset/final_dataset/9f76d27b.jpg</td>\n",
       "      <td>{\"item_dimensions\": {\"height\": {\"normalized_va...</td>\n",
       "      <td>[[What color are the drawer slides?, White], [...</td>\n",
       "    </tr>\n",
       "    <tr>\n",
       "      <th>2</th>\n",
       "      <td>81NP7qh2L6L</td>\n",
       "      <td>Dataset/final_dataset/665cc994.jpg</td>\n",
       "      <td>{\"item_dimensions\": {\"height\": {\"normalized_va...</td>\n",
       "      <td>[[What color is the filament?, Yellow], [What ...</td>\n",
       "    </tr>\n",
       "    <tr>\n",
       "      <th>3</th>\n",
       "      <td>61Rp4qOih9L</td>\n",
       "      <td>Dataset/final_dataset/b4f9d0cc.jpg</td>\n",
       "      <td>{\"brand\": [{\"language_tag\": \"en_GB\", \"value\": ...</td>\n",
       "      <td>[[What is the primary color of the fabric?, Gr...</td>\n",
       "    </tr>\n",
       "    <tr>\n",
       "      <th>4</th>\n",
       "      <td>714CmIfKIYL</td>\n",
       "      <td>Dataset/final_dataset/2b1c2516.jpg</td>\n",
       "      <td>{\"brand\": [{\"language_tag\": \"en_AU\", \"value\": ...</td>\n",
       "      <td>[[What color is the shoe?, Beige], [What is th...</td>\n",
       "    </tr>\n",
       "    <tr>\n",
       "      <th>5</th>\n",
       "      <td>81+4dBN1jsL</td>\n",
       "      <td>Dataset/final_dataset/9dfccb37.jpg</td>\n",
       "      <td>{\"brand\": [{\"language_tag\": \"en_IN\", \"value\": ...</td>\n",
       "      <td>[[What color is the middle stripe?, Blue], [Wh...</td>\n",
       "    </tr>\n",
       "    <tr>\n",
       "      <th>6</th>\n",
       "      <td>61LWeNhjZ9L</td>\n",
       "      <td>Dataset/final_dataset/9f903271.jpg</td>\n",
       "      <td>{\"brand\": [{\"language_tag\": \"en_IN\", \"value\": ...</td>\n",
       "      <td>[[What color are the butterflies?, Blue], [Wha...</td>\n",
       "    </tr>\n",
       "    <tr>\n",
       "      <th>7</th>\n",
       "      <td>61izEZdhlaL</td>\n",
       "      <td>Dataset/final_dataset/075e5d67.jpg</td>\n",
       "      <td>{\"item_dimensions\": {\"height\": {\"normalized_va...</td>\n",
       "      <td>[[What is the apparent shape of the glass?, Sq...</td>\n",
       "    </tr>\n",
       "    <tr>\n",
       "      <th>8</th>\n",
       "      <td>71tgJqobw6L</td>\n",
       "      <td>Dataset/final_dataset/77412532.jpg</td>\n",
       "      <td>{\"brand\": [{\"language_tag\": \"en_IN\", \"value\": ...</td>\n",
       "      <td>[[What color are the butterflies?, Pink], [Wha...</td>\n",
       "    </tr>\n",
       "    <tr>\n",
       "      <th>9</th>\n",
       "      <td>71E62qS--6L</td>\n",
       "      <td>Dataset/final_dataset/736f202c.jpg</td>\n",
       "      <td>{\"brand\": [{\"language_tag\": \"en_GB\", \"value\": ...</td>\n",
       "      <td>[[What color is the chair cover?, Green], [Wha...</td>\n",
       "    </tr>\n",
       "  </tbody>\n",
       "</table>\n",
       "</div>"
      ],
      "text/plain": [
       "      image_id                          image_path  \\\n",
       "0  81iZlv3bjpL  Dataset/final_dataset/8ccb5859.jpg   \n",
       "1  619y9YG9cnL  Dataset/final_dataset/9f76d27b.jpg   \n",
       "2  81NP7qh2L6L  Dataset/final_dataset/665cc994.jpg   \n",
       "3  61Rp4qOih9L  Dataset/final_dataset/b4f9d0cc.jpg   \n",
       "4  714CmIfKIYL  Dataset/final_dataset/2b1c2516.jpg   \n",
       "5  81+4dBN1jsL  Dataset/final_dataset/9dfccb37.jpg   \n",
       "6  61LWeNhjZ9L  Dataset/final_dataset/9f903271.jpg   \n",
       "7  61izEZdhlaL  Dataset/final_dataset/075e5d67.jpg   \n",
       "8  71tgJqobw6L  Dataset/final_dataset/77412532.jpg   \n",
       "9  71E62qS--6L  Dataset/final_dataset/736f202c.jpg   \n",
       "\n",
       "                                             listing  \\\n",
       "0  {\"brand\": [{\"language_tag\": \"nl_NL\", \"value\": ...   \n",
       "1  {\"item_dimensions\": {\"height\": {\"normalized_va...   \n",
       "2  {\"item_dimensions\": {\"height\": {\"normalized_va...   \n",
       "3  {\"brand\": [{\"language_tag\": \"en_GB\", \"value\": ...   \n",
       "4  {\"brand\": [{\"language_tag\": \"en_AU\", \"value\": ...   \n",
       "5  {\"brand\": [{\"language_tag\": \"en_IN\", \"value\": ...   \n",
       "6  {\"brand\": [{\"language_tag\": \"en_IN\", \"value\": ...   \n",
       "7  {\"item_dimensions\": {\"height\": {\"normalized_va...   \n",
       "8  {\"brand\": [{\"language_tag\": \"en_IN\", \"value\": ...   \n",
       "9  {\"brand\": [{\"language_tag\": \"en_GB\", \"value\": ...   \n",
       "\n",
       "                                        vqa_response  \n",
       "0  [[What is the main color of the shoe?, Brown],...  \n",
       "1  [[What color are the drawer slides?, White], [...  \n",
       "2  [[What color is the filament?, Yellow], [What ...  \n",
       "3  [[What is the primary color of the fabric?, Gr...  \n",
       "4  [[What color is the shoe?, Beige], [What is th...  \n",
       "5  [[What color is the middle stripe?, Blue], [Wh...  \n",
       "6  [[What color are the butterflies?, Blue], [Wha...  \n",
       "7  [[What is the apparent shape of the glass?, Sq...  \n",
       "8  [[What color are the butterflies?, Pink], [Wha...  \n",
       "9  [[What color is the chair cover?, Green], [Wha...  "
      ]
     },
     "execution_count": 45,
     "metadata": {},
     "output_type": "execute_result"
    }
   ],
   "source": [
    "full_df.head(10)"
   ]
  },
  {
   "cell_type": "code",
   "execution_count": 46,
   "id": "7f30a8d6",
   "metadata": {},
   "outputs": [
    {
     "name": "stdout",
     "output_type": "stream",
     "text": [
      "0\n"
     ]
    }
   ],
   "source": [
    "c = 0\n",
    "for index, row in full_df.iterrows():\n",
    "\n",
    "    vqa = row['vqa_response']\n",
    "    if isinstance(vqa, str):\n",
    "        try:\n",
    "            vqa = ast.literal_eval(vqa)\n",
    "        except Exception:\n",
    "            vqa = []\n",
    "\n",
    "    for q in vqa:\n",
    "        if len(q) > 1 and q[1] in ['yes', 'no']:\n",
    "            c += 1\n",
    "print(c)"
   ]
  },
  {
   "cell_type": "code",
   "execution_count": 47,
   "id": "b2817547",
   "metadata": {},
   "outputs": [
    {
     "data": {
      "text/html": [
       "<div>\n",
       "<style scoped>\n",
       "    .dataframe tbody tr th:only-of-type {\n",
       "        vertical-align: middle;\n",
       "    }\n",
       "\n",
       "    .dataframe tbody tr th {\n",
       "        vertical-align: top;\n",
       "    }\n",
       "\n",
       "    .dataframe thead th {\n",
       "        text-align: right;\n",
       "    }\n",
       "</style>\n",
       "<table border=\"1\" class=\"dataframe\">\n",
       "  <thead>\n",
       "    <tr style=\"text-align: right;\">\n",
       "      <th></th>\n",
       "      <th>image_id</th>\n",
       "      <th>image_path</th>\n",
       "      <th>listing</th>\n",
       "      <th>vqa_response</th>\n",
       "    </tr>\n",
       "  </thead>\n",
       "  <tbody>\n",
       "    <tr>\n",
       "      <th>0</th>\n",
       "      <td>71VUaimU7hL</td>\n",
       "      <td>Dataset/final_dataset/61ea5462.jpg</td>\n",
       "      <td>{\"brand\": [{\"language_tag\": \"en_IN\", \"value\": ...</td>\n",
       "      <td>[[What color is the peacock's body?, Blue], [W...</td>\n",
       "    </tr>\n",
       "    <tr>\n",
       "      <th>1</th>\n",
       "      <td>71gSEiCam3L</td>\n",
       "      <td>Dataset/final_dataset/7df8a654.jpg</td>\n",
       "      <td>{\"brand\": [{\"language_tag\": \"en_IN\", \"value\": ...</td>\n",
       "      <td>[[What is the main color of the flowers?, Pink...</td>\n",
       "    </tr>\n",
       "    <tr>\n",
       "      <th>2</th>\n",
       "      <td>710CMsBn3yL</td>\n",
       "      <td>Dataset/final_dataset/3efac857.jpg</td>\n",
       "      <td>{\"brand\": [{\"language_tag\": \"ja_JP\", \"value\": ...</td>\n",
       "      <td>[[What color is the backpack?, Blue], [What is...</td>\n",
       "    </tr>\n",
       "    <tr>\n",
       "      <th>3</th>\n",
       "      <td>61rJWZTBCyL</td>\n",
       "      <td>Dataset/final_dataset/9f5718c7.jpg</td>\n",
       "      <td>{\"brand\": [{\"language_tag\": \"en_IN\", \"value\": ...</td>\n",
       "      <td>[[What color are the headphones?, Teal], [What...</td>\n",
       "    </tr>\n",
       "    <tr>\n",
       "      <th>4</th>\n",
       "      <td>61z5mBZvsQL</td>\n",
       "      <td>Dataset/final_dataset/a6fd7a1b.jpg</td>\n",
       "      <td>{\"brand\": [{\"language_tag\": \"en_IN\", \"value\": ...</td>\n",
       "      <td>[[What color is the girl's lantern?, Purple], ...</td>\n",
       "    </tr>\n",
       "  </tbody>\n",
       "</table>\n",
       "</div>"
      ],
      "text/plain": [
       "      image_id                          image_path  \\\n",
       "0  71VUaimU7hL  Dataset/final_dataset/61ea5462.jpg   \n",
       "1  71gSEiCam3L  Dataset/final_dataset/7df8a654.jpg   \n",
       "2  710CMsBn3yL  Dataset/final_dataset/3efac857.jpg   \n",
       "3  61rJWZTBCyL  Dataset/final_dataset/9f5718c7.jpg   \n",
       "4  61z5mBZvsQL  Dataset/final_dataset/a6fd7a1b.jpg   \n",
       "\n",
       "                                             listing  \\\n",
       "0  {\"brand\": [{\"language_tag\": \"en_IN\", \"value\": ...   \n",
       "1  {\"brand\": [{\"language_tag\": \"en_IN\", \"value\": ...   \n",
       "2  {\"brand\": [{\"language_tag\": \"ja_JP\", \"value\": ...   \n",
       "3  {\"brand\": [{\"language_tag\": \"en_IN\", \"value\": ...   \n",
       "4  {\"brand\": [{\"language_tag\": \"en_IN\", \"value\": ...   \n",
       "\n",
       "                                        vqa_response  \n",
       "0  [[What color is the peacock's body?, Blue], [W...  \n",
       "1  [[What is the main color of the flowers?, Pink...  \n",
       "2  [[What color is the backpack?, Blue], [What is...  \n",
       "3  [[What color are the headphones?, Teal], [What...  \n",
       "4  [[What color is the girl's lantern?, Purple], ...  "
      ]
     },
     "execution_count": 47,
     "metadata": {},
     "output_type": "execute_result"
    }
   ],
   "source": [
    "#shuffle the dataframe\n",
    "full_df = full_df.sample(frac=1).reset_index(drop=True)\n",
    "full_df.head()"
   ]
  },
  {
   "cell_type": "code",
   "execution_count": 48,
   "id": "534b810d",
   "metadata": {},
   "outputs": [],
   "source": [
    "split = int(0.8*len(full_df))\n",
    "first_half = full_df.iloc[:split]\n",
    "second_half = full_df.iloc[split:]\n",
    "first_half.to_csv('Dataset/train_80_withoutyesno.csv', index=False)\n",
    "second_half.to_csv('Dataset/test_20_withoutyesno.csv', index=False)"
   ]
  },
  {
   "cell_type": "code",
   "execution_count": 49,
   "id": "f1711149",
   "metadata": {},
   "outputs": [
    {
     "name": "stdout",
     "output_type": "stream",
     "text": [
      "15573\n",
      "3894\n",
      "True\n"
     ]
    }
   ],
   "source": [
    "print(len(first_half))\n",
    "print(len(second_half))\n",
    "print((len(first_half) + len(second_half)) == len(full_df))"
   ]
  },
  {
   "cell_type": "code",
   "execution_count": 51,
   "id": "536080d6",
   "metadata": {},
   "outputs": [
    {
     "name": "stdout",
     "output_type": "stream",
     "text": [
      "Number of questions: 48666\n"
     ]
    }
   ],
   "source": [
    "num_questions = full_df['vqa_response'].apply(lambda x: len(x))\n",
    "print(f\"Number of questions: {num_questions.sum()}\")"
   ]
  },
  {
   "cell_type": "code",
   "execution_count": 52,
   "id": "a81c5409",
   "metadata": {},
   "outputs": [
    {
     "name": "stdout",
     "output_type": "stream",
     "text": [
      "48666\n"
     ]
    }
   ],
   "source": [
    "first = pd.read_csv('Dataset/train_80_withoutyesno.csv')\n",
    "second = pd.read_csv('Dataset/test_20_withoutyesno.csv')\n",
    "\n",
    "num_questions_first = first['vqa_response'].apply(lambda x: len(ast.literal_eval(x)) if isinstance(x, str) else 0)\n",
    "num_questions_second = second['vqa_response'].apply(lambda x: len(ast.literal_eval(x)) if isinstance(x, str) else 0)\n",
    "\n",
    "print(num_questions_first.sum()+num_questions_second.sum())"
   ]
  },
  {
   "cell_type": "code",
   "execution_count": null,
   "id": "ae616b6d",
   "metadata": {},
   "outputs": [],
   "source": []
  }
 ],
 "metadata": {
  "kernelspec": {
   "display_name": "env",
   "language": "python",
   "name": "python3"
  },
  "language_info": {
   "codemirror_mode": {
    "name": "ipython",
    "version": 3
   },
   "file_extension": ".py",
   "mimetype": "text/x-python",
   "name": "python",
   "nbconvert_exporter": "python",
   "pygments_lexer": "ipython3",
   "version": "3.13.3"
  }
 },
 "nbformat": 4,
 "nbformat_minor": 5
}
