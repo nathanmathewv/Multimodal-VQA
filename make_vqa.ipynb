{
 "cells": [
  {
   "cell_type": "code",
   "execution_count": 1,
   "id": "d730ddec",
   "metadata": {},
   "outputs": [],
   "source": [
    "import dotenv\n",
    "import os\n",
    "import matplotlib.pyplot as plt\n",
    "import matplotlib.image as mpimg\n",
    "import json\n",
    "import pandas as pd\n",
    "\n",
    "# Load environment variables from .env file\n",
    "dotenv.load_dotenv()\n",
    "api_key = os.getenv(\"API_KEY\")"
   ]
  },
  {
   "cell_type": "code",
   "execution_count": 2,
   "id": "2bbd26d7",
   "metadata": {},
   "outputs": [],
   "source": [
    "from google import genai\n",
    "\n",
    "client = genai.Client(api_key = api_key)"
   ]
  },
  {
   "cell_type": "code",
   "execution_count": 4,
   "id": "d10ede60",
   "metadata": {},
   "outputs": [
    {
     "data": {
      "text/html": [
       "<div>\n",
       "<style scoped>\n",
       "    .dataframe tbody tr th:only-of-type {\n",
       "        vertical-align: middle;\n",
       "    }\n",
       "\n",
       "    .dataframe tbody tr th {\n",
       "        vertical-align: top;\n",
       "    }\n",
       "\n",
       "    .dataframe thead th {\n",
       "        text-align: right;\n",
       "    }\n",
       "</style>\n",
       "<table border=\"1\" class=\"dataframe\">\n",
       "  <thead>\n",
       "    <tr style=\"text-align: right;\">\n",
       "      <th></th>\n",
       "      <th>image_id</th>\n",
       "      <th>image_path</th>\n",
       "      <th>listing</th>\n",
       "    </tr>\n",
       "  </thead>\n",
       "  <tbody>\n",
       "    <tr>\n",
       "      <th>0</th>\n",
       "      <td>81iZlv3bjpL</td>\n",
       "      <td>Dataset/final_dataset/8ccb5859.jpg</td>\n",
       "      <td>{\"brand\": [{\"language_tag\": \"nl_NL\", \"value\": ...</td>\n",
       "    </tr>\n",
       "    <tr>\n",
       "      <th>1</th>\n",
       "      <td>619y9YG9cnL</td>\n",
       "      <td>Dataset/final_dataset/9f76d27b.jpg</td>\n",
       "      <td>{\"item_dimensions\": {\"height\": {\"normalized_va...</td>\n",
       "    </tr>\n",
       "    <tr>\n",
       "      <th>2</th>\n",
       "      <td>81NP7qh2L6L</td>\n",
       "      <td>Dataset/final_dataset/665cc994.jpg</td>\n",
       "      <td>{\"item_dimensions\": {\"height\": {\"normalized_va...</td>\n",
       "    </tr>\n",
       "    <tr>\n",
       "      <th>3</th>\n",
       "      <td>61Rp4qOih9L</td>\n",
       "      <td>Dataset/final_dataset/b4f9d0cc.jpg</td>\n",
       "      <td>{\"brand\": [{\"language_tag\": \"en_GB\", \"value\": ...</td>\n",
       "    </tr>\n",
       "    <tr>\n",
       "      <th>4</th>\n",
       "      <td>714CmIfKIYL</td>\n",
       "      <td>Dataset/final_dataset/2b1c2516.jpg</td>\n",
       "      <td>{\"brand\": [{\"language_tag\": \"en_AU\", \"value\": ...</td>\n",
       "    </tr>\n",
       "  </tbody>\n",
       "</table>\n",
       "</div>"
      ],
      "text/plain": [
       "      image_id                          image_path  \\\n",
       "0  81iZlv3bjpL  Dataset/final_dataset/8ccb5859.jpg   \n",
       "1  619y9YG9cnL  Dataset/final_dataset/9f76d27b.jpg   \n",
       "2  81NP7qh2L6L  Dataset/final_dataset/665cc994.jpg   \n",
       "3  61Rp4qOih9L  Dataset/final_dataset/b4f9d0cc.jpg   \n",
       "4  714CmIfKIYL  Dataset/final_dataset/2b1c2516.jpg   \n",
       "\n",
       "                                             listing  \n",
       "0  {\"brand\": [{\"language_tag\": \"nl_NL\", \"value\": ...  \n",
       "1  {\"item_dimensions\": {\"height\": {\"normalized_va...  \n",
       "2  {\"item_dimensions\": {\"height\": {\"normalized_va...  \n",
       "3  {\"brand\": [{\"language_tag\": \"en_GB\", \"value\": ...  \n",
       "4  {\"brand\": [{\"language_tag\": \"en_AU\", \"value\": ...  "
      ]
     },
     "execution_count": 4,
     "metadata": {},
     "output_type": "execute_result"
    }
   ],
   "source": [
    "images_data = pd.read_csv(\"Dataset/metadata/image_data.csv\")\n",
    "images_data.head()"
   ]
  },
  {
   "cell_type": "code",
   "execution_count": 6,
   "id": "d9cda9ca",
   "metadata": {},
   "outputs": [],
   "source": [
    "def test_response(image_path,prompt):\n",
    "    response = client.models.generate_content(\n",
    "    model=\"gemini-2.0-flash\",\n",
    "    contents=[image_path, prompt],\n",
    "    )\n",
    "\n",
    "    return response.text"
   ]
  },
  {
   "cell_type": "code",
   "execution_count": 7,
   "id": "f2ced330",
   "metadata": {},
   "outputs": [],
   "source": [
    "def chat_response(image_path, user_prompt, system_prompt):\n",
    "    # Read the image as binary\n",
    "    with open(image_path, \"rb\") as img_file:\n",
    "        image_data = img_file.read()\n",
    "\n",
    "    # Define the content with system and user messages\n",
    "    contents = [\n",
    "        # {\n",
    "        #     \"role\": \"system\",\n",
    "        #     \"parts\": [\n",
    "        #         {\"text\": system_prompt}\n",
    "        #     ]\n",
    "        # },\n",
    "        {\n",
    "            \"role\": \"user\",\n",
    "            \"parts\": [\n",
    "                {\"inline_data\": {\"mime_type\": \"image/jpeg\", \"data\": image_data}},\n",
    "                {\"text\": system_prompt+user_prompt}\n",
    "            ]\n",
    "        }\n",
    "    ]\n",
    "\n",
    "    # Initialize the model\n",
    "    model = \"gemini-2.0-flash\"\n",
    "\n",
    "    # Generate the response\n",
    "    response = client.models.generate_content(model=model, contents=contents)\n",
    "\n",
    "    return response.text"
   ]
  },
  {
   "cell_type": "code",
   "execution_count": 8,
   "id": "f296863b",
   "metadata": {},
   "outputs": [],
   "source": [
    "def get_keywords(data):\n",
    "    vqa_data = {}\n",
    "    vqa_data[\"item_keywords\"] = [kw.get(\"value\", \"\") for kw in data.get(\"item_keywords\", []) if kw.get(\"language_tag\", \"\").startswith('en')]\n",
    "    temp = vqa_data[\"item_keywords\"].copy()\n",
    "    keywords = ['color']\n",
    "    for i in range(min(5, len(temp))):\n",
    "        keywords.append(temp[i])\n",
    "    return keywords"
   ]
  },
  {
   "cell_type": "code",
   "execution_count": 9,
   "id": "c6d8b4a2",
   "metadata": {},
   "outputs": [
    {
     "name": "stdout",
     "output_type": "stream",
     "text": [
      "['color']\n",
      "['color']\n",
      "['color', '3d printer filament', 'petg printer filament', 'petg filament', '1.75mm printer filament', '1kg spool printer filament']\n"
     ]
    }
   ],
   "source": [
    "for i in range(3):\n",
    "    image = images_data.iloc[i]['image_path']\n",
    "    image_id = images_data.iloc[i]['image_id']\n",
    "    listing = images_data.iloc[i]['listing']\n",
    "    listing = json.loads(listing)\n",
    "    keywords = get_keywords(listing)\n",
    "    print(keywords)"
   ]
  },
  {
   "cell_type": "code",
   "execution_count": 10,
   "id": "0cda8842",
   "metadata": {},
   "outputs": [
    {
     "name": "stdout",
     "output_type": "stream",
     "text": [
      "File created: Dataset/metadata/image_data_with_vqa.csv\n"
     ]
    }
   ],
   "source": [
    "# Define the file path\n",
    "csv_file_path = \"Dataset/metadata/image_data_with_vqa.csv\"\n",
    "\n",
    "# Check if the file exists\n",
    "if not os.path.exists(csv_file_path):\n",
    "    # If the file doesn't exist, create a new DataFrame with random values\n",
    "    l = len(images_data)\n",
    "    data = {\n",
    "        \"image_id\": [f\"\" for _ in range(l)],  # Example random IDs\n",
    "        \"image_path\": [f\"\" for _ in range(l)],  # Example random paths\n",
    "        \"vqa_responses\": [\"\" for _ in range(l)]  # Random responses\n",
    "    }\n",
    "    df = pd.DataFrame(data)\n",
    "    \n",
    "    # Save the DataFrame to a CSV file\n",
    "    os.makedirs(os.path.dirname(csv_file_path), exist_ok=True)  # Ensure the directory exists\n",
    "    df.to_csv(csv_file_path, index=False)\n",
    "    print(f\"File created: {csv_file_path}\")\n",
    "else:\n",
    "    print(f\"File already exists: {csv_file_path}\")"
   ]
  },
  {
   "cell_type": "code",
   "execution_count": 11,
   "id": "ab6e7fbe",
   "metadata": {},
   "outputs": [
    {
     "name": "stdout",
     "output_type": "stream",
     "text": [
      "Here are some question-answer pairs based on the image and metadata:\n",
      "\n",
      "```json\n",
      "[\n",
      "  [\"What is the color of the shoe in the image?\", \"Pink and brown\"],\n",
      "  [\"Is the shoe patterned in color?\", \"Yes\"]\n",
      "]\n",
      "```\n"
     ]
    }
   ],
   "source": [
    "system_prompt = \"\"\"\n",
    "You are a Visual Question Answering (VQA) dataset generator.\n",
    "Given an image and a list of metadata strings, generate diverse, high-quality question-answer pairs that cover visual recognition, attributes, relationships, metadata, and reasoning.\n",
    "Output each pair as list.\n",
    "\"\"\"\n",
    "vqa_responses = []\n",
    "for i in range(1):\n",
    "    image = images_data.iloc[i]['image_path']\n",
    "    image_id = images_data.iloc[i]['image_id']\n",
    "    listing = images_data.iloc[i]['listing']\n",
    "    listing = json.loads(listing)\n",
    "    keywords = get_keywords(listing)\n",
    "    user_prompt = f\"\"\"\n",
    "    Image ID: {image_id}\n",
    "    Metadata: {keywords}\n",
    "    Generate 2-3 question-answer pairs.\n",
    "    \"\"\"\n",
    "\n",
    "    response = chat_response(image, user_prompt, system_prompt)\n",
    "    print(response)\n",
    "    \n",
    "# Save the responses to a CSV file\n",
    "# images_data['vqa_response'] = vqa_responses\n",
    "# images_data.to_csv(\"Dataset/metadata/image_data_with_vqa.csv\", index=False)\n",
    "    "
   ]
  },
  {
   "cell_type": "code",
   "execution_count": null,
   "id": "fd7cd092",
   "metadata": {},
   "outputs": [],
   "source": []
  },
  {
   "cell_type": "code",
   "execution_count": null,
   "id": "ce28bd19",
   "metadata": {},
   "outputs": [],
   "source": []
  }
 ],
 "metadata": {
  "kernelspec": {
   "display_name": "env",
   "language": "python",
   "name": "python3"
  },
  "language_info": {
   "codemirror_mode": {
    "name": "ipython",
    "version": 3
   },
   "file_extension": ".py",
   "mimetype": "text/x-python",
   "name": "python",
   "nbconvert_exporter": "python",
   "pygments_lexer": "ipython3",
   "version": "3.13.2"
  }
 },
 "nbformat": 4,
 "nbformat_minor": 5
}
