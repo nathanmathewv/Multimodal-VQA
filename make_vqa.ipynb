{
 "cells": [
  {
   "cell_type": "code",
   "execution_count": 17,
   "id": "d730ddec",
   "metadata": {},
   "outputs": [],
   "source": [
    "import dotenv\n",
    "import os\n",
    "import matplotlib.pyplot as plt\n",
    "import matplotlib.image as mpimg\n",
    "import json\n",
    "import pandas as pd\n",
    "\n",
    "# Load environment variables from .env file\n",
    "dotenv.load_dotenv()\n",
    "api_key = os.getenv(\"API_KEY\")"
   ]
  },
  {
   "cell_type": "code",
   "execution_count": 24,
   "id": "2bbd26d7",
   "metadata": {},
   "outputs": [],
   "source": [
    "from google import genai\n",
    "\n",
    "client = genai.Client(api_key = api_key)"
   ]
  },
  {
   "cell_type": "code",
   "execution_count": 25,
   "id": "f5b28038",
   "metadata": {},
   "outputs": [
    {
     "name": "stdout",
     "output_type": "stream",
     "text": [
      "Here are a few caption options for the image you sent, focusing on different aspects:\n",
      "\n",
      "**Short & Sweet:**\n",
      "\n",
      "*   \"Nutrition facts and ingredients for a healthy snack.\"\n",
      "*   \"Close-up of a food package label.\"\n",
      "*   \"Checking the nutritional information.\"\n",
      "\n",
      "**More Descriptive:**\n",
      "\n",
      "*   \"The back of a bag of snacks showing the nutrition facts panel and ingredient list. A whole foods product.\"\n",
      "*   \"A detailed view of the nutrition information on a snack bag, highlighting calories, fat, and other key values.\"\n",
      "*   \"Nutrition facts panel from the back of a Whole Foods Brand snack. Great for those checking ingredients and nutritional content.\"\n",
      "\n",
      "**If you want to give me some context on what the image is or what you are trying to communicate, I can provide a more tailored caption.**\n"
     ]
    }
   ],
   "source": [
    "my_file = client.files.upload(file=image_path)\n",
    "\n",
    "response = client.models.generate_content(\n",
    "    model=\"gemini-2.0-flash\",\n",
    "    contents=[my_file, \"Caption this image.\"],\n",
    ")\n",
    "\n",
    "print(response.text)"
   ]
  },
  {
   "cell_type": "code",
   "execution_count": null,
   "id": "d10ede60",
   "metadata": {},
   "outputs": [
    {
     "data": {
      "text/html": [
       "<div>\n",
       "<style scoped>\n",
       "    .dataframe tbody tr th:only-of-type {\n",
       "        vertical-align: middle;\n",
       "    }\n",
       "\n",
       "    .dataframe tbody tr th {\n",
       "        vertical-align: top;\n",
       "    }\n",
       "\n",
       "    .dataframe thead th {\n",
       "        text-align: right;\n",
       "    }\n",
       "</style>\n",
       "<table border=\"1\" class=\"dataframe\">\n",
       "  <thead>\n",
       "    <tr style=\"text-align: right;\">\n",
       "      <th></th>\n",
       "      <th>image_id</th>\n",
       "      <th>image_path</th>\n",
       "      <th>listing</th>\n",
       "    </tr>\n",
       "  </thead>\n",
       "  <tbody>\n",
       "    <tr>\n",
       "      <th>0</th>\n",
       "      <td>71dZhpsferL</td>\n",
       "      <td>Dataset/final_dataset/c20aa6ca.jpg</td>\n",
       "      <td>{\"brand\": [{\"language_tag\": \"en_IN\", \"value\": ...</td>\n",
       "    </tr>\n",
       "    <tr>\n",
       "      <th>1</th>\n",
       "      <td>71vX7qIEAIL</td>\n",
       "      <td>Dataset/final_dataset/3079540e.jpg</td>\n",
       "      <td>{\"brand\": [{\"language_tag\": \"en_IN\", \"value\": ...</td>\n",
       "    </tr>\n",
       "    <tr>\n",
       "      <th>2</th>\n",
       "      <td>A1EZF-2mB5L</td>\n",
       "      <td>Dataset/final_dataset/f9a7cb71.jpg</td>\n",
       "      <td>{\"brand\": [{\"language_tag\": \"en_AE\", \"value\": ...</td>\n",
       "    </tr>\n",
       "    <tr>\n",
       "      <th>3</th>\n",
       "      <td>81o9EyZ-fAL</td>\n",
       "      <td>Dataset/final_dataset/26ae5dfc.jpg</td>\n",
       "      <td>{\"item_dimensions\": {\"height\": {\"normalized_va...</td>\n",
       "    </tr>\n",
       "    <tr>\n",
       "      <th>4</th>\n",
       "      <td>81xaJCVnl3L</td>\n",
       "      <td>Dataset/final_dataset/5d8f395f.jpg</td>\n",
       "      <td>{\"brand\": [{\"language_tag\": \"en_IN\", \"value\": ...</td>\n",
       "    </tr>\n",
       "  </tbody>\n",
       "</table>\n",
       "</div>"
      ],
      "text/plain": [
       "      image_id                          image_path  \\\n",
       "0  71dZhpsferL  Dataset/final_dataset/c20aa6ca.jpg   \n",
       "1  71vX7qIEAIL  Dataset/final_dataset/3079540e.jpg   \n",
       "2  A1EZF-2mB5L  Dataset/final_dataset/f9a7cb71.jpg   \n",
       "3  81o9EyZ-fAL  Dataset/final_dataset/26ae5dfc.jpg   \n",
       "4  81xaJCVnl3L  Dataset/final_dataset/5d8f395f.jpg   \n",
       "\n",
       "                                             listing  \n",
       "0  {\"brand\": [{\"language_tag\": \"en_IN\", \"value\": ...  \n",
       "1  {\"brand\": [{\"language_tag\": \"en_IN\", \"value\": ...  \n",
       "2  {\"brand\": [{\"language_tag\": \"en_AE\", \"value\": ...  \n",
       "3  {\"item_dimensions\": {\"height\": {\"normalized_va...  \n",
       "4  {\"brand\": [{\"language_tag\": \"en_IN\", \"value\": ...  "
      ]
     },
     "execution_count": 20,
     "metadata": {},
     "output_type": "execute_result"
    }
   ],
   "source": [
    "images_data = pd.read_csv(\"Dataset/metadata/image_data.csv\")\n",
    "images_data.head()"
   ]
  },
  {
   "cell_type": "code",
   "execution_count": 31,
   "id": "53dfd9df",
   "metadata": {},
   "outputs": [
    {
     "data": {
      "text/plain": [
       "<matplotlib.image.AxesImage at 0x120d1f390>"
      ]
     },
     "execution_count": 31,
     "metadata": {},
     "output_type": "execute_result"
    },
    {
     "data": {
      "image/png": "[encoded data removed]",
      "text/plain": [
       "<Figure size 640x480 with 1 Axes>"
      ]
     },
     "metadata": {},
     "output_type": "display_data"
    }
   ],
   "source": [
    "# open image\n",
    "image_path = r\"Dataset/final_dataset/c20aa6ca.jpg\"\n",
    "img = mpimg.imread(image_path)\n",
    "plt.imshow(img)"
   ]
  },
  {
   "cell_type": "code",
   "execution_count": 61,
   "id": "d9cda9ca",
   "metadata": {},
   "outputs": [],
   "source": [
    "def test_response(image_path,prompt):\n",
    "    response = client.models.generate_content(\n",
    "    model=\"gemini-2.0-flash\",\n",
    "    contents=[image_path, prompt],\n",
    "    )\n",
    "\n",
    "    return response.text"
   ]
  },
  {
   "cell_type": "code",
   "execution_count": 66,
   "id": "f2ced330",
   "metadata": {},
   "outputs": [],
   "source": [
    "def chat_response(image_path, user_prompt, system_prompt):\n",
    "    # Read the image as binary\n",
    "    with open(image_path, \"rb\") as img_file:\n",
    "        image_data = img_file.read()\n",
    "\n",
    "    # Define the content with system and user messages\n",
    "    contents = [\n",
    "        # {\n",
    "        #     \"role\": \"system\",\n",
    "        #     \"parts\": [\n",
    "        #         {\"text\": system_prompt}\n",
    "        #     ]\n",
    "        # },\n",
    "        {\n",
    "            \"role\": \"user\",\n",
    "            \"parts\": [\n",
    "                {\"inline_data\": {\"mime_type\": \"image/jpeg\", \"data\": image_data}},\n",
    "                {\"text\": system_prompt+user_prompt}\n",
    "            ]\n",
    "        }\n",
    "    ]\n",
    "\n",
    "    # Initialize the model\n",
    "    model = \"gemini-2.0-flash\"\n",
    "\n",
    "    # Generate the response\n",
    "    response = client.models.generate_content(model=model, contents=contents)\n",
    "\n",
    "    return response.text"
   ]
  },
  {
   "cell_type": "code",
   "execution_count": 67,
   "id": "f296863b",
   "metadata": {},
   "outputs": [],
   "source": [
    "def get_keywords(data):\n",
    "    vqa_data = {}\n",
    "    vqa_data[\"item_keywords\"] = [kw.get(\"value\", \"\") for kw in data.get(\"item_keywords\", []) if kw.get(\"language_tag\", \"\").startswith('en')]\n",
    "    temp = vqa_data[\"item_keywords\"].copy()\n",
    "    keywords = ['color']\n",
    "    for i in range(min(5, len(temp))):\n",
    "        keywords.append(temp[i])\n",
    "    return keywords"
   ]
  },
  {
   "cell_type": "code",
   "execution_count": 68,
   "id": "c6d8b4a2",
   "metadata": {},
   "outputs": [
    {
     "name": "stdout",
     "output_type": "stream",
     "text": [
      "['color', 'mobile cover', 'back cover', 'mobile case', 'phone case', 'mobile panel']\n",
      "['color', 'mobile cover', 'back cover', 'mobile case', 'phone case', 'mobile panel']\n",
      "['color', 'small', 'de', 'fur', 'rooms', 'navidad']\n"
     ]
    }
   ],
   "source": [
    "for i in range(3):\n",
    "    image = images_data.iloc[i]['image_path']\n",
    "    image_id = images_data.iloc[i]['image_id']\n",
    "    listing = images_data.iloc[i]['listing']\n",
    "    listing = json.loads(listing)\n",
    "    keywords = get_keywords(listing)\n",
    "    print(keywords)"
   ]
  },
  {
   "cell_type": "code",
   "execution_count": 73,
   "id": "0cda8842",
   "metadata": {},
   "outputs": [
    {
     "name": "stdout",
     "output_type": "stream",
     "text": [
      "File created: Dataset/metadata/image_data_with_vqa.csv\n"
     ]
    }
   ],
   "source": [
    "# Define the file path\n",
    "csv_file_path = \"Dataset/metadata/image_data_with_vqa.csv\"\n",
    "\n",
    "# Check if the file exists\n",
    "if not os.path.exists(csv_file_path):\n",
    "    # If the file doesn't exist, create a new DataFrame with random values\n",
    "    l = len(images_data)\n",
    "    data = {\n",
    "        \"image_id\": [f\"\" for _ in range(l)],  # Example random IDs\n",
    "        \"image_path\": [f\"\" for _ in range(l)],  # Example random paths\n",
    "        \"vqa_responses\": [\"\" for _ in range(l)]  # Random responses\n",
    "    }\n",
    "    df = pd.DataFrame(data)\n",
    "    \n",
    "    # Save the DataFrame to a CSV file\n",
    "    os.makedirs(os.path.dirname(csv_file_path), exist_ok=True)  # Ensure the directory exists\n",
    "    df.to_csv(csv_file_path, index=False)\n",
    "    print(f\"File created: {csv_file_path}\")\n",
    "else:\n",
    "    print(f\"File already exists: {csv_file_path}\")"
   ]
  },
  {
   "cell_type": "code",
   "execution_count": null,
   "id": "ab6e7fbe",
   "metadata": {},
   "outputs": [
    {
     "name": "stdout",
     "output_type": "stream",
     "text": [
      "Here are some question-answer pairs based on the image and metadata:\n",
      "\n",
      "```json\n",
      "[\n",
      "  [\"What color is the phone case?\", \"black\"],\n",
      "  [\"What type of cover is this?\", \"back cover\"]\n",
      "]\n",
      "```\n",
      "['Here are some question-answer pairs based on the image and metadata:\\n\\n```json\\n[\\n  [\"What color is the phone case?\", \"black\"],\\n  [\"What type of cover is this?\", \"back cover\"]\\n]\\n```']\n"
     ]
    }
   ],
   "source": [
    "system_prompt = \"\"\"\n",
    "You are a Visual Question Answering (VQA) dataset generator.\n",
    "Given an image and a list of metadata strings, generate diverse, high-quality question-answer pairs that cover visual recognition, attributes, relationships, metadata, and reasoning.\n",
    "Output each pair as list.\n",
    "\"\"\"\n",
    "vqa_responses = []\n",
    "for i in range(1):\n",
    "    image = images_data.iloc[i]['image_path']\n",
    "    image_id = images_data.iloc[i]['image_id']\n",
    "    listing = images_data.iloc[i]['listing']\n",
    "    listing = json.loads(listing)\n",
    "    keywords = get_keywords(listing)\n",
    "    user_prompt = f\"\"\"\n",
    "    Image ID: {image_id}\n",
    "    Metadata: {keywords}\n",
    "    Generate 2-3 question-answer pairs.\n",
    "    \"\"\"\n",
    "\n",
    "    response = chat_response(image, user_prompt, system_prompt)\n",
    "    print(response)\n",
    "    \n",
    "# Save the responses to a CSV file\n",
    "# images_data['vqa_response'] = vqa_responses\n",
    "# images_data.to_csv(\"Dataset/metadata/image_data_with_vqa.csv\", index=False)\n",
    "    "
   ]
  },
  {
   "cell_type": "code",
   "execution_count": null,
   "id": "fd7cd092",
   "metadata": {},
   "outputs": [
    {
     "ename": "ValueError",
     "evalue": "Length of values (1) does not match length of index (19795)",
     "output_type": "error",
     "traceback": [
      "\u001b[31m---------------------------------------------------------------------------\u001b[39m",
      "\u001b[31mValueError\u001b[39m                                Traceback (most recent call last)",
      "\u001b[36mCell\u001b[39m\u001b[36m \u001b[39m\u001b[32mIn[72]\u001b[39m\u001b[32m, line 1\u001b[39m\n\u001b[32m----> \u001b[39m\u001b[32m1\u001b[39m \u001b[43mimages_data\u001b[49m\u001b[43m[\u001b[49m\u001b[33;43m'\u001b[39;49m\u001b[33;43mvqa_response\u001b[39;49m\u001b[33;43m'\u001b[39;49m\u001b[43m]\u001b[49m = vqa_responses\n\u001b[32m      2\u001b[39m images_data.to_csv(\u001b[33m\"\u001b[39m\u001b[33mDataset/metadata/image_data_with_vqa.csv\u001b[39m\u001b[33m\"\u001b[39m, index=\u001b[38;5;28;01mFalse\u001b[39;00m)\n",
      "\u001b[36mFile \u001b[39m\u001b[32m~/Desktop/College/Sem 6/AIM 825 Visual Recognition/MiniProject-2/Multimodal-VQA/env/lib/python3.13/site-packages/pandas/core/frame.py:4311\u001b[39m, in \u001b[36mDataFrame.__setitem__\u001b[39m\u001b[34m(self, key, value)\u001b[39m\n\u001b[32m   4308\u001b[39m     \u001b[38;5;28mself\u001b[39m._setitem_array([key], value)\n\u001b[32m   4309\u001b[39m \u001b[38;5;28;01melse\u001b[39;00m:\n\u001b[32m   4310\u001b[39m     \u001b[38;5;66;03m# set column\u001b[39;00m\n\u001b[32m-> \u001b[39m\u001b[32m4311\u001b[39m     \u001b[38;5;28;43mself\u001b[39;49m\u001b[43m.\u001b[49m\u001b[43m_set_item\u001b[49m\u001b[43m(\u001b[49m\u001b[43mkey\u001b[49m\u001b[43m,\u001b[49m\u001b[43m \u001b[49m\u001b[43mvalue\u001b[49m\u001b[43m)\u001b[49m\n",
      "\u001b[36mFile \u001b[39m\u001b[32m~/Desktop/College/Sem 6/AIM 825 Visual Recognition/MiniProject-2/Multimodal-VQA/env/lib/python3.13/site-packages/pandas/core/frame.py:4524\u001b[39m, in \u001b[36mDataFrame._set_item\u001b[39m\u001b[34m(self, key, value)\u001b[39m\n\u001b[32m   4514\u001b[39m \u001b[38;5;28;01mdef\u001b[39;00m\u001b[38;5;250m \u001b[39m\u001b[34m_set_item\u001b[39m(\u001b[38;5;28mself\u001b[39m, key, value) -> \u001b[38;5;28;01mNone\u001b[39;00m:\n\u001b[32m   4515\u001b[39m \u001b[38;5;250m    \u001b[39m\u001b[33;03m\"\"\"\u001b[39;00m\n\u001b[32m   4516\u001b[39m \u001b[33;03m    Add series to DataFrame in specified column.\u001b[39;00m\n\u001b[32m   4517\u001b[39m \n\u001b[32m   (...)\u001b[39m\u001b[32m   4522\u001b[39m \u001b[33;03m    ensure homogeneity.\u001b[39;00m\n\u001b[32m   4523\u001b[39m \u001b[33;03m    \"\"\"\u001b[39;00m\n\u001b[32m-> \u001b[39m\u001b[32m4524\u001b[39m     value, refs = \u001b[38;5;28;43mself\u001b[39;49m\u001b[43m.\u001b[49m\u001b[43m_sanitize_column\u001b[49m\u001b[43m(\u001b[49m\u001b[43mvalue\u001b[49m\u001b[43m)\u001b[49m\n\u001b[32m   4526\u001b[39m     \u001b[38;5;28;01mif\u001b[39;00m (\n\u001b[32m   4527\u001b[39m         key \u001b[38;5;129;01min\u001b[39;00m \u001b[38;5;28mself\u001b[39m.columns\n\u001b[32m   4528\u001b[39m         \u001b[38;5;129;01mand\u001b[39;00m value.ndim == \u001b[32m1\u001b[39m\n\u001b[32m   4529\u001b[39m         \u001b[38;5;129;01mand\u001b[39;00m \u001b[38;5;129;01mnot\u001b[39;00m \u001b[38;5;28misinstance\u001b[39m(value.dtype, ExtensionDtype)\n\u001b[32m   4530\u001b[39m     ):\n\u001b[32m   4531\u001b[39m         \u001b[38;5;66;03m# broadcast across multiple columns if necessary\u001b[39;00m\n\u001b[32m   4532\u001b[39m         \u001b[38;5;28;01mif\u001b[39;00m \u001b[38;5;129;01mnot\u001b[39;00m \u001b[38;5;28mself\u001b[39m.columns.is_unique \u001b[38;5;129;01mor\u001b[39;00m \u001b[38;5;28misinstance\u001b[39m(\u001b[38;5;28mself\u001b[39m.columns, MultiIndex):\n",
      "\u001b[36mFile \u001b[39m\u001b[32m~/Desktop/College/Sem 6/AIM 825 Visual Recognition/MiniProject-2/Multimodal-VQA/env/lib/python3.13/site-packages/pandas/core/frame.py:5266\u001b[39m, in \u001b[36mDataFrame._sanitize_column\u001b[39m\u001b[34m(self, value)\u001b[39m\n\u001b[32m   5263\u001b[39m     \u001b[38;5;28;01mreturn\u001b[39;00m _reindex_for_setitem(value, \u001b[38;5;28mself\u001b[39m.index)\n\u001b[32m   5265\u001b[39m \u001b[38;5;28;01mif\u001b[39;00m is_list_like(value):\n\u001b[32m-> \u001b[39m\u001b[32m5266\u001b[39m     \u001b[43mcom\u001b[49m\u001b[43m.\u001b[49m\u001b[43mrequire_length_match\u001b[49m\u001b[43m(\u001b[49m\u001b[43mvalue\u001b[49m\u001b[43m,\u001b[49m\u001b[43m \u001b[49m\u001b[38;5;28;43mself\u001b[39;49m\u001b[43m.\u001b[49m\u001b[43mindex\u001b[49m\u001b[43m)\u001b[49m\n\u001b[32m   5267\u001b[39m arr = sanitize_array(value, \u001b[38;5;28mself\u001b[39m.index, copy=\u001b[38;5;28;01mTrue\u001b[39;00m, allow_2d=\u001b[38;5;28;01mTrue\u001b[39;00m)\n\u001b[32m   5268\u001b[39m \u001b[38;5;28;01mif\u001b[39;00m (\n\u001b[32m   5269\u001b[39m     \u001b[38;5;28misinstance\u001b[39m(value, Index)\n\u001b[32m   5270\u001b[39m     \u001b[38;5;129;01mand\u001b[39;00m value.dtype == \u001b[33m\"\u001b[39m\u001b[33mobject\u001b[39m\u001b[33m\"\u001b[39m\n\u001b[32m   (...)\u001b[39m\u001b[32m   5273\u001b[39m     \u001b[38;5;66;03m# TODO: Remove kludge in sanitize_array for string mode when enforcing\u001b[39;00m\n\u001b[32m   5274\u001b[39m     \u001b[38;5;66;03m# this deprecation\u001b[39;00m\n",
      "\u001b[36mFile \u001b[39m\u001b[32m~/Desktop/College/Sem 6/AIM 825 Visual Recognition/MiniProject-2/Multimodal-VQA/env/lib/python3.13/site-packages/pandas/core/common.py:573\u001b[39m, in \u001b[36mrequire_length_match\u001b[39m\u001b[34m(data, index)\u001b[39m\n\u001b[32m    569\u001b[39m \u001b[38;5;250m\u001b[39m\u001b[33;03m\"\"\"\u001b[39;00m\n\u001b[32m    570\u001b[39m \u001b[33;03mCheck the length of data matches the length of the index.\u001b[39;00m\n\u001b[32m    571\u001b[39m \u001b[33;03m\"\"\"\u001b[39;00m\n\u001b[32m    572\u001b[39m \u001b[38;5;28;01mif\u001b[39;00m \u001b[38;5;28mlen\u001b[39m(data) != \u001b[38;5;28mlen\u001b[39m(index):\n\u001b[32m--> \u001b[39m\u001b[32m573\u001b[39m     \u001b[38;5;28;01mraise\u001b[39;00m \u001b[38;5;167;01mValueError\u001b[39;00m(\n\u001b[32m    574\u001b[39m         \u001b[33m\"\u001b[39m\u001b[33mLength of values \u001b[39m\u001b[33m\"\u001b[39m\n\u001b[32m    575\u001b[39m         \u001b[33mf\u001b[39m\u001b[33m\"\u001b[39m\u001b[33m(\u001b[39m\u001b[38;5;132;01m{\u001b[39;00m\u001b[38;5;28mlen\u001b[39m(data)\u001b[38;5;132;01m}\u001b[39;00m\u001b[33m) \u001b[39m\u001b[33m\"\u001b[39m\n\u001b[32m    576\u001b[39m         \u001b[33m\"\u001b[39m\u001b[33mdoes not match length of index \u001b[39m\u001b[33m\"\u001b[39m\n\u001b[32m    577\u001b[39m         \u001b[33mf\u001b[39m\u001b[33m\"\u001b[39m\u001b[33m(\u001b[39m\u001b[38;5;132;01m{\u001b[39;00m\u001b[38;5;28mlen\u001b[39m(index)\u001b[38;5;132;01m}\u001b[39;00m\u001b[33m)\u001b[39m\u001b[33m\"\u001b[39m\n\u001b[32m    578\u001b[39m     )\n",
      "\u001b[31mValueError\u001b[39m: Length of values (1) does not match length of index (19795)"
     ]
    }
   ],
   "source": []
  },
  {
   "cell_type": "code",
   "execution_count": null,
   "id": "ce28bd19",
   "metadata": {},
   "outputs": [],
   "source": []
  }
 ],
 "metadata": {
  "kernelspec": {
   "display_name": "env",
   "language": "python",
   "name": "python3"
  },
  "language_info": {
   "codemirror_mode": {
    "name": "ipython",
    "version": 3
   },
   "file_extension": ".py",
   "mimetype": "text/x-python",
   "name": "python",
   "nbconvert_exporter": "python",
   "pygments_lexer": "ipython3",
   "version": "3.13.3"
  }
 },
 "nbformat": 4,
 "nbformat_minor": 5
}
